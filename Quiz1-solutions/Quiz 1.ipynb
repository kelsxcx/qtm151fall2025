{
 "cells": [
  {
   "attachments": {},
   "cell_type": "markdown",
   "metadata": {},
   "source": [
    "# <span style=\"color:red\"> QTM 151 - Quiz 1 </span>"
   ]
  },
  {
   "attachments": {},
   "cell_type": "markdown",
   "metadata": {},
   "source": [
    "## Submit as an HTML file\n",
    "## Quiz is open 11:30am to 12:20pm"
   ]
  },
  {
   "attachments": {},
   "cell_type": "markdown",
   "metadata": {},
   "source": [
    "<font size=\"5\"> \n",
    "\n",
    "Print your name below"
   ]
  },
  {
   "cell_type": "code",
   "execution_count": 1,
   "metadata": {},
   "outputs": [
    {
     "name": "stdout",
     "output_type": "stream",
     "text": [
      "\n"
     ]
    }
   ],
   "source": [
    "# Write your answer here\n",
    "\n",
    "print()"
   ]
  },
  {
   "attachments": {},
   "cell_type": "markdown",
   "metadata": {},
   "source": [
    "<font size = \"5\" >\n",
    "This quiz is open book \n",
    "\n",
    "- You can use the lecture notes\n",
    "- You will get partial credit for attempting the questions\n",
    "- To get full credit, the code should work as intended\n",
    "- You should <span style=\"color:red\"> NOT </span> communicate with other students\n",
    "\n",
    "Print the following message: <br>\n",
    "\n",
    "\"I will abide by Emory's code of conduct\"\n"
   ]
  },
  {
   "cell_type": "code",
   "execution_count": 2,
   "metadata": {},
   "outputs": [
    {
     "name": "stdout",
     "output_type": "stream",
     "text": [
      "\n"
     ]
    }
   ],
   "source": [
    "# Write your answer here:\n",
    "print( )\n"
   ]
  },
  {
   "attachments": {},
   "cell_type": "markdown",
   "metadata": {},
   "source": [
    "<font size = \"5\">\n",
    "\n",
    "Import the libraries \"numpy\", \"matplotlib.pyplot\", and \"pandas\""
   ]
  },
  {
   "cell_type": "code",
   "execution_count": 3,
   "metadata": {},
   "outputs": [],
   "source": [
    "import numpy as np \n",
    "import matplotlib.pyplot as plt \n",
    "import pandas as pd\n"
   ]
  },
  {
   "cell_type": "markdown",
   "metadata": {},
   "source": [
    "<font size = \"5\">\n",
    "\n",
    "1. IF/ELIF/ELSE statements\n",
    "\n",
    "<font size = \"3\">\n",
    "\n",
    "- In the beginning of the code cell below, two lists are created, where element 0 is one of two random choices: \n",
    "```python\n",
    "list_p = [\"Introduction\"/\"Intro\", \"to\", \"Python\"]\n",
    "list_r = [\"Introduction\"/\"Intro\", \"to\", \"R\"]\n",
    "```\n",
    "\n",
    "- Create a new variable ``` keyword = \"Introduction\" ```\n",
    "- Create an if/elif/else block that tests whether ``` keyword ``` is part of either <br>\n",
    "list.  Depending on the outcome (belongs to list_p, belongs to list_r, doesn't belong to either list) print an appropriate message to the screen.\n",
    "\n",
    "HINT: If the creation of list_p and list_r is confusing, add print statements to view the two lists and run the cell 3-4 times to see some of the possible situations\n",
    "\n",
    "\n"
   ]
  },
  {
   "cell_type": "code",
   "execution_count": 4,
   "metadata": {},
   "outputs": [
    {
     "name": "stdout",
     "output_type": "stream",
     "text": [
      "Word is not in either list\n"
     ]
    }
   ],
   "source": [
    "### create lists DO NOT CHANGE\n",
    "str_choices = [[\"Introduction\", \"Intro\"], [\"Intro\", \"Introduction\"], [\"Intro\", \"Intro\"]]\n",
    "str_indices = np.random.choice([0, 1, 2])\n",
    "start_str = str_choices[str_indices]\n",
    "\n",
    "list_p = [start_str[0], \"to\", \"Python\"]\n",
    "list_r = [start_str[1], \"to\", \"R\"]\n",
    "\n",
    "### Your solution below\n",
    "keyword = \"Introduction\"\n",
    "\n",
    "if keyword in list_p:\n",
    "    print(\"Word belongs to list_p\")\n",
    "elif keyword in list_r:\n",
    "    print(\"Word belongs to list_r\")\n",
    "else:\n",
    "    print(\"Word is not in either list\")\n",
    "\n"
   ]
  },
  {
   "attachments": {},
   "cell_type": "markdown",
   "metadata": {},
   "source": [
    "<font size = \"5\">\n",
    "\n",
    "2. Generate a vector of values and plot it\n",
    "\n",
    "<font size = \"3\">\n",
    "\n",
    "- Below, two lists are defined containing values of $x_k$ and $y_k$\n",
    "\n",
    "```python\n",
    "    coord_x = [1,4, 0, -1, 20, 40]\n",
    "    coord_y = [2,2, 0, 10, 0, 1]\n",
    "```\n",
    "\n",
    "- Create a vector (**vector always means numpy array**) ```hypotenuse_sqr``` with elements $h_k$ defined by the formula\n",
    "\n",
    "$\\qquad h_k = x_k^2 + y_k^2$\n",
    "\n",
    "- You **should not** define it manually: so \"hypoteneuse_sqr = np.array([5, 20, 0, 101, 400, 1601])\" is not an acceptable answer\n",
    "\n",
    "- Produce a **histogram** with the elements of ```hypotenuse_sqr``` on the horizontal axis\n",
    "- Label the axes and the title\n",
    "- Change the color to \"orange\", \"green\" or \"purple\" (you choose)\n",
    "- Make sure the plot appears in an output cell\n",
    "\n",
    "Hint: Most mathematical operations are defined for Numpy arrays, which allows you to avoid loops\n",
    "\n",
    "Hint: type \"help(plt.hist)\" to see which argument is used to change color"
   ]
  },
  {
   "cell_type": "code",
   "execution_count": 5,
   "metadata": {},
   "outputs": [
    {
     "data": {
      "image/png": "[encoded data removed]",
      "text/plain": [
       "<Figure size 640x480 with 1 Axes>"
      ]
     },
     "metadata": {},
     "output_type": "display_data"
    }
   ],
   "source": [
    "coord_x = [1,4, 0, -1, 20, 40]\n",
    "coord_y = [2,2, 0, 10, 0, 1]\n",
    "\n",
    "### Your solution below\n",
    "\n",
    "# method 1:\n",
    "hypotenuse_sqr = np.array(coord_x)**2 + np.array(coord_y)**2\n",
    "\n",
    "\n",
    "# method 2:\n",
    "x_arr = np.array(coord_x)\n",
    "y_arr = np.array(coord_y)\n",
    "hypotenuse_sqr = x_arr**2 + y_arr**2\n",
    "\n",
    "\n",
    "# method 3:\n",
    "N = len(coord_x)\n",
    "hyp_list = [] # start with list\n",
    "for k in range(N):\n",
    "    hyp_list.append(coord_x[k]**2 + coord_y[k]**2)\n",
    "\n",
    "hypotenuse_sqr = np.array(hyp_list) # convert to numpy array\n",
    "\n",
    "\n",
    "# method 4:\n",
    "N = len(coord_x)\n",
    "hypotenuse_sqr = np.zeros(N) # start with numpy array full of zeros\n",
    "for k in range(N):\n",
    "    hypotenuse_sqr[k] = coord_x[k]**2 + coord_y[k]**2\n",
    "\n",
    "\n",
    "# regardless of which method was used:\n",
    "plt.hist(x = hypotenuse_sqr, color = \"purple\")\n",
    "plt.title(\"Histogram of Hypotenuse Values\")\n",
    "plt.xlabel(\"Value\")\n",
    "plt.ylabel(\"Frequency\")\n",
    "plt.show()\n",
    "\n"
   ]
  },
  {
   "attachments": {},
   "cell_type": "markdown",
   "metadata": {},
   "source": [
    "<font size = \"5\">\n",
    "\n",
    "3. Histograms of random variables\n",
    "\n",
    "<font size = \"3\">\n",
    "\n",
    "- Let $n = 500$\n",
    "- Generate \"vec_x\" from a normal distribution with (loc = 0,scale = 1,size = n)\n",
    "- Generate \"vex_z\" from a normal distribution with (loc = 5,scale = 1,size = n)\n",
    "- Plot two **histograms** on a single row using the ```plt.subplots``` syntax\n",
    "    - Label the axes and title\n",
    "    - Each graph should have its axes labeled, and should have their own title\n",
    " \n",
    "Hint: If you can't remember how subplots works, generate two individual plots for partial credit"
   ]
  },
  {
   "cell_type": "code",
   "execution_count": 10,
   "metadata": {},
   "outputs": [
    {
     "data": {
      "image/png": "[encoded data removed]",
      "text/plain": [
       "<Figure size 640x480 with 2 Axes>"
      ]
     },
     "metadata": {},
     "output_type": "display_data"
    }
   ],
   "source": [
    "n = 500\n",
    "\n",
    "### Your solution below:\n",
    "\n",
    "# method 1\n",
    "vec_x = np.random.normal(loc = 0, scale = 1, size = n)\n",
    "vec_z = np.random.normal(loc = 5, scale = 1, size = n)\n",
    "\n",
    "# method 2 (default values are loc = 0, scale = 1, so can omit them)\n",
    "vec_x = np.random.normal(size = n)\n",
    "vec_z = np.random.normal(loc = 5, size = n)\n",
    "\n",
    "\n",
    "# add figsize = (6, 3) or something similar for better sized plots\n",
    "fig, sub_p = plt.subplots(nrows = 1, ncols = 2)\n",
    "sub_p[0].hist(x = vec_x)\n",
    "sub_p[0].set_xlabel(\"Samples\")\n",
    "sub_p[0].set_ylabel(\"Frequency\")\n",
    "sub_p[0].set_title(\"Normal with mean 0, s.d. 1\")\n",
    "\n",
    "sub_p[1].hist(x = vec_z)\n",
    "sub_p[1].set_xlabel(\"Samples\")\n",
    "sub_p[1].set_ylabel(\"Frequency\")\n",
    "sub_p[1].set_title(\"Normal with mean 5, s.d. 1\")\n",
    "plt.tight_layout()\n",
    "plt.show()\n",
    "\n"
   ]
  },
  {
   "cell_type": "markdown",
   "metadata": {},
   "source": [
    "<font size = \"5\">\n",
    "\n",
    "4. Combine information across datasets\n",
    "\n",
    "<font size = \"3\">\n",
    "\n",
    "- Read the dataset \"/data_quiz_1/germany_co2_emissions.csv\" and store it as \"data_germany\"\n",
    "- View the dataset, and see what variables it contains\n",
    "- Create a **scatter plot** of CO2 emissions with the following characteristics\n",
    "    - The yearly variable on the x-axis.\n",
    "    - Germany's CO2 emissions on the y-axis.\n",
    "    - Label the axes\n"
   ]
  },
  {
   "cell_type": "code",
   "execution_count": 11,
   "metadata": {},
   "outputs": [
    {
     "data": {
      "image/png": "[encoded data removed]",
      "text/plain": [
       "<Figure size 640x480 with 1 Axes>"
      ]
     },
     "metadata": {},
     "output_type": "display_data"
    }
   ],
   "source": [
    "### Your solution below:\n",
    "data_germany = pd.read_csv(\"data_quiz_1/germany_co2_emissions.csv\")\n",
    "\n",
    "plt.scatter(x = data_germany[\"year\"], y = data_germany[\"total_emissions\"])\n",
    "plt.xlabel(\"Year\")\n",
    "plt.ylabel(\"Emissions\")\n",
    "plt.show()"
   ]
  },
  {
   "attachments": {},
   "cell_type": "markdown",
   "metadata": {},
   "source": [
    "<font size = \"5\">\n",
    "\n",
    "5. Loop through dfferent variables and plot\n",
    "\n",
    "\n",
    "<font size = \"3\">\n",
    "\n",
    "- Read the dataset \"data_quiz_1/wdi_ageprop_2020.csv\"\n",
    "- Create a list of variable names with the following elements:\n",
    "\n",
    "```python\n",
    "    list_varnames = [\"percent_ages0to14\",\"percent_ages15to64\"]\n",
    "```\n",
    "\n",
    "- Run a for loop that computes the mean for each variable and print it on screen.\n",
    "\n",
    "Hint: Computing the mean of a column/variable from a Pandas dataset is just like computing the mean of a Numpy array\n"
   ]
  },
  {
   "cell_type": "code",
   "execution_count": 12,
   "metadata": {},
   "outputs": [
    {
     "name": "stdout",
     "output_type": "stream",
     "text": [
      "26.90657125728302\n",
      "63.68465159973585\n",
      "26.90657125728302\n",
      "63.68465159973585\n"
     ]
    }
   ],
   "source": [
    "### Your solution below:\n",
    "\n",
    "wdi = pd.read_csv(\"data_quiz_1/wdi_ageprop_2020.csv\")\n",
    "\n",
    "list_varnames = [\"percent_ages0to14\", \"percent_ages15to64\"]\n",
    "\n",
    "# method 1\n",
    "for name in list_varnames:\n",
    "    column = wdi[name]\n",
    "    # \"...is just like computing the mean of a Numpy array\"\n",
    "    print(np.mean(column))\n",
    "\n",
    "# method 2\n",
    "for name in list_varnames:\n",
    "    column = wdi[name]\n",
    "    # \"...is just like computing the mean of a Numpy array\"\n",
    "    print(column.mean())\n"
   ]
  },
  {
   "cell_type": "markdown",
   "metadata": {},
   "source": [
    "<font size = \"5\">\n",
    "\n",
    "6. Run loop through different datasets and compute statistics\n",
    "\n",
    "<font size = \"3\">\n",
    "\n",
    "- Create a list with the \".csv\" dataset names of two countries. For example\n",
    "\n",
    "```python\n",
    "    [\"data_quiz/name1.csv\",\"data_quiz/name2.csv\"] \n",
    "```\n",
    "\n",
    "- Create an empty list called ``` list_emissions ```\n",
    "\n",
    "- Run a for-loop over the list of dataset names. Inside the loop:\n",
    "    - Read the corresponding \".csv\" dataset.\n",
    "    - Compute the mean of \"total_emissions\" for each respective country, <br>\n",
    "    and store it as an element of ```list_emissions```\n",
    "\n",
    "- After the loop, print ```list_emissions```\n",
    "\n",
    "HINT: Use ```.append()``` (See Lecture 5-supplement or Lecture 7)\n"
   ]
  },
  {
   "cell_type": "code",
   "execution_count": 13,
   "metadata": {},
   "outputs": [
    {
     "name": "stdout",
     "output_type": "stream",
     "text": [
      "[np.float64(954347.021200521), np.float64(287606.4942740235)]\n",
      "[954347.02120052 287606.49427402]\n"
     ]
    }
   ],
   "source": [
    "### Your solution below:\n",
    "\n",
    "# I chose Japan and Korea\n",
    "filenames = [\"data_quiz_1/japan_co2_emissions.csv\", \"data_quiz_1/korea_rep_co2_emissions.csv\"]\n",
    "list_emissions = []\n",
    "\n",
    "for name in filenames:\n",
    "    data_set = pd.read_csv(name)\n",
    "    emissions = data_set[\"total_emissions\"]\n",
    "    list_emissions.append(emissions.mean())\n",
    "\n",
    "print(list_emissions)\n",
    "\n",
    "# not necessary, but for better output, convert to Numpy Array\n",
    "print(np.array(list_emissions))\n"
   ]
  },
  {
   "cell_type": "code",
   "execution_count": null,
   "metadata": {},
   "outputs": [],
   "source": []
  }
 ],
 "metadata": {
  "kernelspec": {
   "display_name": "base",
   "language": "python",
   "name": "python3"
  },
  "language_info": {
   "codemirror_mode": {
    "name": "ipython",
    "version": 3
   },
   "file_extension": ".py",
   "mimetype": "text/x-python",
   "name": "python",
   "nbconvert_exporter": "python",
   "pygments_lexer": "ipython3",
   "version": "3.13.5"
  },
  "orig_nbformat": 4
 },
 "nbformat": 4,
 "nbformat_minor": 2
}
