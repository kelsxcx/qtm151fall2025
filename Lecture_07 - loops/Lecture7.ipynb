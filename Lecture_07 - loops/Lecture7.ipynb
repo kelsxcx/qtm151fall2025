{
 "cells": [
  {
   "cell_type": "markdown",
   "id": "a81d3657",
   "metadata": {},
   "source": [
    "# <span style=\"color:darkblue\"> Lecture 7: Loops </span>"
   ]
  },
  {
   "cell_type": "markdown",
   "id": "8fd7a41e",
   "metadata": {},
   "source": [
    "<font size=\"5\"> \n",
    "\n",
    "In the previous class we:\n",
    "- Introduced boolean objects, comparison and logical operators\n",
    "- Saw our first type of structure with indendented code - if/elif/else statements"
   ]
  },
  {
   "cell_type": "markdown",
   "id": "46488672",
   "metadata": {},
   "source": [
    "<font size=\"5\"> \n",
    "\n",
    "In this class we will:\n",
    "\n",
    "- Cover two other kinds of indented code blocks: \"for loops\" and \"while loops\"\n",
    "- Learn about \"debug mode\" in Jupyter code cells"
   ]
  },
  {
   "cell_type": "code",
   "execution_count": 6,
   "id": "482737fe",
   "metadata": {},
   "outputs": [],
   "source": [
    "# for convenience, put all import statements here\n",
    "import matplotlib.pyplot as plt\n",
    "import pandas as pd\n",
    "import numpy as np"
   ]
  },
  {
   "cell_type": "markdown",
   "id": "a66d4041",
   "metadata": {},
   "source": [
    "## <span style=\"color:darkblue\"> I. Debug Mode </span>"
   ]
  },
  {
   "cell_type": "markdown",
   "id": "f07e94ac",
   "metadata": {},
   "source": [
    "##### In Lecture5-supplement.ipynb, we saw an example of the \".append\" methods for lists\n",
    "\n",
    "##### Here is another example. We'll run it once, then again in \"debug\" mode"
   ]
  },
  {
   "cell_type": "code",
   "execution_count": 2,
   "id": "34e10a80",
   "metadata": {},
   "outputs": [
    {
     "name": "stdout",
     "output_type": "stream",
     "text": [
      "['California', 'Texas', 'Florida', 'New York', 'Pennsylvania', 'Illinois']\n"
     ]
    }
   ],
   "source": [
    "states_by_population = [] # an empty list: nothing inside it\n",
    "\n",
    "# Add most populous state\n",
    "states_by_population.append(\"California\")\n",
    "\n",
    "# 2nd most populous state\n",
    "states_by_population.append(\"Texas\")\n",
    "\n",
    "# and so on...\n",
    "states_by_population.append(\"Florida\")\n",
    "states_by_population.append(\"New York\")\n",
    "states_by_population.append(\"Pennsylvania\")\n",
    "states_by_population.append(\"Illinois\")\n",
    "\n",
    "print(states_by_population)"
   ]
  },
  {
   "cell_type": "markdown",
   "id": "28e6f088",
   "metadata": {},
   "source": [
    "##### Let's **delete** the variable states_by_population. This will allow us to \"start from scratch\" when we run this again in debug mode"
   ]
  },
  {
   "cell_type": "code",
   "execution_count": 3,
   "id": "d1000449",
   "metadata": {},
   "outputs": [],
   "source": [
    "del states_by_population"
   ]
  },
  {
   "cell_type": "markdown",
   "id": "91bc6f46",
   "metadata": {},
   "source": [
    "##### **Read this:** Click to the left of the first line to add a \"breakpoint\". Then click the small drop-down menu next to the \"execute cell\" button to find the option \"debug cell\""
   ]
  },
  {
   "cell_type": "code",
   "execution_count": 5,
   "id": "19ab13e4",
   "metadata": {},
   "outputs": [
    {
     "name": "stdout",
     "output_type": "stream",
     "text": [
      "['California', 'Texas', 'Florida', 'New York', 'Pennsylvania', 'Illinois']\n"
     ]
    }
   ],
   "source": [
    "states_by_population = [] # an empty list: nothing inside it\n",
    "\n",
    "# Add most populous state\n",
    "states_by_population.append(\"California\")\n",
    "\n",
    "# 2nd most populous state\n",
    "states_by_population.append(\"Texas\")\n",
    "\n",
    "# and so on...\n",
    "states_by_population.append(\"Florida\")\n",
    "states_by_population.append(\"New York\")\n",
    "states_by_population.append(\"Pennsylvania\")\n",
    "states_by_population.append(\"Illinois\")\n",
    "\n",
    "print(states_by_population)"
   ]
  },
  {
   "cell_type": "markdown",
   "id": "e8e4c1b1",
   "metadata": {},
   "source": [
    "## <span style=\"color:darkblue\"> II. For Loops</span> \n",
    "\n",
    "<font size=\"5\"> \n",
    "\n",
    "One of the most important elements of computation is repetition\n",
    "-  We can do this with \"loops\".\n",
    "- In the next examples, we repeat a task for each element in a list\n",
    "\n",
    "Consider an example with three elements"
   ]
  },
  {
   "cell_type": "markdown",
   "id": "e5166489",
   "metadata": {},
   "source": [
    "<font size = \"5\">\n",
    "\n",
    "<table><tr>\n",
    "<td style = \"border:0px\"> <img src=\"figures/forloop.png\" alt=\"drawing\" width=\"300\"/>  </td>\n",
    "<td style = \"border:0px\">  Use concise syntax with a for-loop <br>\n",
    "\n",
    "``` python\n",
    "    for value in list_values:\n",
    "        Body\n",
    "```\n",
    " </td>\n",
    "</tr></table>"
   ]
  },
  {
   "cell_type": "markdown",
   "id": "b59ddeed",
   "metadata": {},
   "source": [
    "##### First, let's do a code cell with no loops"
   ]
  },
  {
   "cell_type": "code",
   "execution_count": 5,
   "id": "892ffa1b",
   "metadata": {},
   "outputs": [
    {
     "name": "stdout",
     "output_type": "stream",
     "text": [
      "Dear customer, we are writing about your KIA vehicle.\n",
      "Dear customer, we are writing about your Ferrari vehicle.\n",
      "Dear customer, we are writing about your Ford vehicle.\n",
      "Dear customer, we are writing about your Tesla vehicle.\n"
     ]
    }
   ],
   "source": [
    "car_list = [\"KIA\", \"Ferrari\", \"Ford\", \"Tesla\"]\n",
    "\n",
    "print(\"Dear customer, we are writing about your \" + car_list[0] + \" vehicle.\")\n",
    "print(\"Dear customer, we are writing about your \" + car_list[1] + \" vehicle.\")\n",
    "print(\"Dear customer, we are writing about your \" + car_list[2] + \" vehicle.\")\n",
    "print(\"Dear customer, we are writing about your \" + car_list[3] + \" vehicle.\")\n",
    "\n",
    "# Here we're concatenating strings with a \"+\" sign"
   ]
  },
  {
   "cell_type": "code",
   "execution_count": 6,
   "id": "cc21a3ff",
   "metadata": {},
   "outputs": [
    {
     "name": "stdout",
     "output_type": "stream",
     "text": [
      "Dear customer, we are writing about your KIA vehicle.\n",
      "Dear customer, we are writing about your Ferrari vehicle.\n",
      "Dear customer, we are writing about your Ford vehicle.\n",
      "Dear customer, we are writing about your Tesla vehicle.\n"
     ]
    }
   ],
   "source": [
    "# Now, with a for loop\n",
    "\n",
    "car_list = [\"KIA\", \"Ferrari\", \"Ford\", \"Tesla\"]\n",
    "\n",
    "for car_name in car_list:\n",
    "    print(\"Dear customer, we are writing about your \" + car_name + \" vehicle.\")\n",
    "\n",
    "# for car_name in car_list, means:\n",
    "# A variable \"car_name\" takes the value of every item in the list car_list, one by one\n",
    "# For each value of car_name, the indented block of code is executed once."
   ]
  },
  {
   "cell_type": "markdown",
   "id": "54848f93",
   "metadata": {},
   "source": [
    "##### In the previous example, we iterated over strings, which are the names of cars. Sometimes it is helpful to know what position we are in the list\n",
    "\n",
    "##### There are two simple ways of doing this"
   ]
  },
  {
   "cell_type": "code",
   "execution_count": 7,
   "id": "d6683fae",
   "metadata": {},
   "outputs": [
    {
     "name": "stdout",
     "output_type": "stream",
     "text": [
      "Dear KIA customer, your position is 0 on the waitlist.\n",
      "Dear Ferrari customer, your position is 1 on the waitlist.\n",
      "Dear Ford customer, your position is 2 on the waitlist.\n",
      "Dear Tesla customer, your position is 3 on the waitlist.\n"
     ]
    }
   ],
   "source": [
    "# create an extra variable to keep track of where we are in the list\n",
    "car_list = [\"KIA\", \"Ferrari\", \"Ford\", \"Tesla\"]\n",
    "\n",
    "index = 0\n",
    "\n",
    "for car_name in car_list:\n",
    "    print(\"Dear \" + car_name + \" customer, your position is \" + str(index) + \" on the waitlist.\")\n",
    "    index = index + 1"
   ]
  },
  {
   "cell_type": "code",
   "execution_count": 8,
   "id": "490c6bfb",
   "metadata": {},
   "outputs": [
    {
     "name": "stdout",
     "output_type": "stream",
     "text": [
      "Dear KIA customer, your position is 0 on the waitlist.\n",
      "Dear Ferrari customer, your position is 1 on the waitlist.\n",
      "Dear Ford customer, your position is 2 on the waitlist.\n",
      "Dear Tesla customer, your position is 3 on the waitlist.\n"
     ]
    }
   ],
   "source": [
    "# use the \"range\" function\n",
    "car_list = [\"KIA\", \"Ferrari\", \"Ford\", \"Tesla\"]\n",
    "\n",
    "N = len(car_list) # number of elements\n",
    "\n",
    "for index in range(N):\n",
    "    print(\"Dear \" + car_list[index] + \" customer, your position is \" + str(index) + \n",
    "    \" on the waitlist.\")"
   ]
  },
  {
   "cell_type": "markdown",
   "id": "10b1264d",
   "metadata": {},
   "source": [
    "#### You can preview what values the \"loop variable\" will take by converting the range object into a list:"
   ]
  },
  {
   "cell_type": "code",
   "execution_count": 9,
   "id": "44024020",
   "metadata": {},
   "outputs": [
    {
     "data": {
      "text/plain": [
       "[0, 1, 2, 3]"
      ]
     },
     "execution_count": 9,
     "metadata": {},
     "output_type": "execute_result"
    }
   ],
   "source": [
    "list(range(N))"
   ]
  },
  {
   "cell_type": "markdown",
   "id": "a4ae334d",
   "metadata": {},
   "source": [
    "## <span style=\"color:darkblue\"> III. The while loop </span>\n",
    "\n",
    "<font size=\"5\"> \n",
    "\n",
    "- Used to iterate over a block of code as long as the test expression (condition) is true. \n",
    "\n",
    "- Use when we don't know the number of times to iterate beforehand."
   ]
  },
  {
   "cell_type": "markdown",
   "id": "8b4e02f5",
   "metadata": {},
   "source": [
    "<font size=\"5\"> \n",
    "\n",
    "\n",
    "<table><tr>\n",
    "<td> <img src=\"figures/while.png\" alt=\"drawing\" width=\"200\"/>  </td>\n",
    "<td>  Continue to run code <br>\n",
    "while a condition holds\n",
    " <br>\n",
    "\n",
    " ``` python\n",
    "    while test_expression:\n",
    "        Body\n",
    "```\n",
    "\n",
    " </td>\n",
    "</tr></table>"
   ]
  },
  {
   "cell_type": "markdown",
   "id": "9981d9ce",
   "metadata": {},
   "source": [
    "<font size = \"5\">\n",
    "\n",
    "Example: Control accuracy!\n",
    "\n",
    "$f(x) = \\frac{1}{x}$\n",
    "\n",
    "- If $x$ is large enough, then $f(x)$ becomes very small\n",
    "- We can continue to run values until $f(x) \\leq \\epsilon$\n",
    "- Here the value $\\epsilon$ is a threshold\n",
    "\n",
    "Similar logic for any algorithm that needs more iterations for accuracy"
   ]
  },
  {
   "cell_type": "code",
   "execution_count": null,
   "id": "a0a754da",
   "metadata": {},
   "outputs": [
    {
     "name": "stdout",
     "output_type": "stream",
     "text": [
      "[]\n"
     ]
    },
    {
     "data": {
      "text/plain": [
       "Text(0, 0.5, 'y')"
      ]
     },
     "execution_count": 7,
     "metadata": {},
     "output_type": "execute_result"
    },
    {
     "data": {
      "image/png": "[encoded data removed]",
      "text/plain": [
       "<Figure size 640x480 with 1 Axes>"
      ]
     },
     "metadata": {},
     "output_type": "display_data"
    }
   ],
   "source": [
    "# Specify a threshold level\n",
    "\n",
    "eps = 0.025\n",
    "\n",
    "x_list = []\n",
    "y_list = []\n",
    "\n",
    "print(x_list)\n",
    "\n",
    "x = 1\n",
    "while 1/x > eps:\n",
    "    x_list.append(x)\n",
    "    y_list.append(1/x)\n",
    "    x = x + 1\n",
    "\n",
    "plt.scatter(x= x_list, y = y_list)\n",
    "plt.title(\"Graph of f(x) = 1/x\")\n",
    "plt.xlabel(\"x\")\n",
    "plt.ylabel(\"y\")"
   ]
  },
  {
   "cell_type": "code",
   "execution_count": 11,
   "id": "9bc2fe1f",
   "metadata": {},
   "outputs": [
    {
     "name": "stdout",
     "output_type": "stream",
     "text": [
      "0\n",
      "1\n",
      "2\n",
      "3\n",
      "[0, 3]\n"
     ]
    }
   ],
   "source": [
    "# This code loops over the list of players\n",
    "# and stops once 2 tennis players are found\n",
    "\n",
    "\n",
    "list_sports = [\"tennis\",\"golf\",\"golf\",\"tennis\",\"golf\",\"golf\"]\n",
    "\n",
    "candidate_list = []\n",
    "num_candidates = 0\n",
    "\n",
    "index = 0\n",
    "while num_candidates < 2:\n",
    "    print(index)\n",
    "    if(list_sports[index] == \"tennis\"):\n",
    "        candidate_list.append(index)\n",
    "        num_candidates = num_candidates + 1\n",
    "\n",
    "    index = index + 1\n",
    "\n",
    "print(candidate_list)"
   ]
  },
  {
   "cell_type": "markdown",
   "id": "14d5a444",
   "metadata": {},
   "source": [
    "## <span style=\"color:darkblue\">  IV. Interrupting for loops </span>"
   ]
  },
  {
   "cell_type": "markdown",
   "id": "75eb2287",
   "metadata": {},
   "source": [
    "#### The following opinion does not necessarily reflect the views of the department of Data and Decision Sciences:\n",
    "\n",
    "#### While loops are terrible. Anything you can do with a while loop, you can do with a for loop with a conditional break statement"
   ]
  },
  {
   "cell_type": "code",
   "execution_count": 8,
   "id": "bbe96066",
   "metadata": {},
   "outputs": [
    {
     "name": "stdout",
     "output_type": "stream",
     "text": [
      "[]\n"
     ]
    },
    {
     "data": {
      "text/plain": [
       "Text(0, 0.5, 'y')"
      ]
     },
     "execution_count": 8,
     "metadata": {},
     "output_type": "execute_result"
    },
    {
     "data": {
      "image/png": "[encoded data removed]",
      "text/plain": [
       "<Figure size 640x480 with 1 Axes>"
      ]
     },
     "metadata": {},
     "output_type": "display_data"
    }
   ],
   "source": [
    "# Specify a threshold level\n",
    "\n",
    "eps = 0.025\n",
    "\n",
    "x_list = []\n",
    "y_list = []\n",
    "\n",
    "print(x_list)\n",
    "\n",
    "x = 1\n",
    "\n",
    "max_points = 1000\n",
    "\n",
    "for k in range(max_points):\n",
    "    if 1/x <= eps:\n",
    "        break\n",
    "\n",
    "    x_list.append(x)\n",
    "    y_list.append(1/x)\n",
    "    x = x + 1\n",
    "\n",
    "plt.scatter(x= x_list, y = y_list)\n",
    "plt.title(\"Graph of f(x) = 1/x\")\n",
    "plt.xlabel(\"x\")\n",
    "plt.ylabel(\"y\")"
   ]
  },
  {
   "cell_type": "markdown",
   "id": "b57c844f",
   "metadata": {},
   "source": [
    "#### Example: stop a for loop when an invalid type is encountered"
   ]
  },
  {
   "cell_type": "code",
   "execution_count": 13,
   "id": "84907c23",
   "metadata": {},
   "outputs": [
    {
     "name": "stdout",
     "output_type": "stream",
     "text": [
      "Stopping sum computation: Non-numerical element in list!\n",
      "3\n"
     ]
    }
   ],
   "source": [
    "list_mixed = [1, 2, None, 4, 11, 2.2]\n",
    "\n",
    "list_sum = 0\n",
    "for value in list_mixed:\n",
    "    if (type(value) != int) and (type(value) != float):\n",
    "        print(\"Stopping sum computation: Non-numerical element in list!\")\n",
    "        break\n",
    "\n",
    "    list_sum = list_sum + value\n",
    "\n",
    "print(list_sum)"
   ]
  },
  {
   "cell_type": "markdown",
   "id": "cb88be10",
   "metadata": {},
   "source": [
    "#### In other situations, you might want to silently skip over an invalid input without terminating the entire loop"
   ]
  },
  {
   "cell_type": "code",
   "execution_count": 15,
   "id": "32def40e",
   "metadata": {},
   "outputs": [
    {
     "name": "stdout",
     "output_type": "stream",
     "text": [
      "Warning: Non-numerical element in list!\n",
      "Warning: Non-numerical element in list!\n",
      "Warning: Non-numerical element in list!\n",
      "23.2\n"
     ]
    }
   ],
   "source": [
    "list_mixed = [1, 2, None, 4, 11, 2.2, None, None, 3]\n",
    "\n",
    "list_sum = 0\n",
    "for value in list_mixed:\n",
    "    if (type(value) != int) and (type(value) != float):\n",
    "        print(\"Warning: Non-numerical element in list!\")\n",
    "        continue\n",
    "\n",
    "    list_sum = list_sum + value\n",
    "\n",
    "print(list_sum)"
   ]
  },
  {
   "cell_type": "markdown",
   "id": "369e639f",
   "metadata": {},
   "source": [
    "## <span style=\"color:darkblue\">  V. Application: Bar Plot </span>"
   ]
  },
  {
   "cell_type": "markdown",
   "id": "c628f534",
   "metadata": {},
   "source": [
    "#### Consider the following example (which was an exercise from Lecture 5)"
   ]
  },
  {
   "cell_type": "code",
   "execution_count": 16,
   "id": "bede40d7",
   "metadata": {},
   "outputs": [
    {
     "data": {
      "image/png": "[encoded data removed]",
      "text/plain": [
       "<Figure size 640x480 with 1 Axes>"
      ]
     },
     "metadata": {},
     "output_type": "display_data"
    }
   ],
   "source": [
    "# your code here\n",
    "favorite_colors = [\"red\", \"red\", \"blue\", \"pink\", \"green\", \"orange\", \"orange\", \"yellow\",\n",
    "                    \"red\", \"green\", \"red\", \"blue\", \"blue\", \"yellow\", \"green\"]\n",
    "\n",
    "plt.hist(x = favorite_colors)\n",
    "plt.show()"
   ]
  },
  {
   "cell_type": "markdown",
   "id": "3dacd08c",
   "metadata": {},
   "source": [
    "#### See how \"orange\" and \"yellow\" look like they are combined into a single plot?\n",
    "\n",
    "#### Histograms are actually best used for continuous data (like approximating a probability density function). What we want is a **bar plot**"
   ]
  },
  {
   "cell_type": "markdown",
   "id": "98216f3e",
   "metadata": {},
   "source": []
  },
  {
   "cell_type": "code",
   "execution_count": 7,
   "id": "3fd1b173",
   "metadata": {},
   "outputs": [
    {
     "data": {
      "image/png": "[encoded data removed]",
      "text/plain": [
       "<Figure size 640x480 with 1 Axes>"
      ]
     },
     "metadata": {},
     "output_type": "display_data"
    }
   ],
   "source": [
    "favorite_colors = [\"red\", \"red\", \"blue\", \"pink\", \"green\", \"orange\", \"orange\", \"yellow\",\n",
    "                    \"red\", \"green\", \"red\", \"blue\", \"blue\", \"yellow\", \"green\"]\n",
    "\n",
    "unique_colors = [\"red\", \"blue\", \"pink\", \"green\", \"orange\", \"yellow\"]\n",
    "count = [4, 3, 1, 3, 2, 2]\n",
    "\n",
    "plt.bar(x = unique_colors, height = count)\n",
    "plt.show()"
   ]
  },
  {
   "cell_type": "markdown",
   "id": "891022c5",
   "metadata": {},
   "source": [
    "## Let's practice writing this as a loop"
   ]
  },
  {
   "cell_type": "code",
   "execution_count": 10,
   "id": "09acc812",
   "metadata": {},
   "outputs": [
    {
     "name": "stdout",
     "output_type": "stream",
     "text": [
      "['red', 'blue', 'pink', 'green', 'orange', 'yellow']\n",
      "[4, 3, 1, 3, 2, 2]\n"
     ]
    },
    {
     "data": {
      "text/plain": [
       "Text(0.5, 1.0, 'Color frequency')"
      ]
     },
     "execution_count": 10,
     "metadata": {},
     "output_type": "execute_result"
    },
    {
     "data": {
      "image/png": "[encoded data removed]",
      "text/plain": [
       "<Figure size 640x480 with 1 Axes>"
      ]
     },
     "metadata": {},
     "output_type": "display_data"
    }
   ],
   "source": [
    "color_list = []\n",
    "color_count = []\n",
    "for color in favorite_colors:\n",
    "    if color not in color_list :\n",
    "        color_list.append(color)\n",
    "        color_count.append(1)\n",
    "    else:\n",
    "        index = color_list.index(color)\n",
    "        color_count[index] += 1 \n",
    "        \n",
    "print(color_list)\n",
    "print(color_count)\n",
    "    \n",
    "plt.bar(color_list, color_count)\n",
    "plt.title(\"Color frequency\")\n"
   ]
  },
  {
   "cell_type": "code",
   "execution_count": null,
   "id": "43580225",
   "metadata": {},
   "outputs": [],
   "source": [
    "# cell for the final loop\n",
    "\n"
   ]
  },
  {
   "cell_type": "markdown",
   "id": "6b82eaf1",
   "metadata": {},
   "source": [
    "## <span style=\"color:darkblue\"> Exercises </span>"
   ]
  },
  {
   "cell_type": "markdown",
   "id": "379e73b6",
   "metadata": {},
   "source": [
    "#### 1. How would you change the code below, so that it prints out the position in the list of each non-numerical item it encounters?"
   ]
  },
  {
   "cell_type": "code",
   "execution_count": 14,
   "id": "3cdb7a0e",
   "metadata": {},
   "outputs": [
    {
     "name": "stdout",
     "output_type": "stream",
     "text": [
      "Non numerical value at index 2.\n",
      "20.2\n"
     ]
    }
   ],
   "source": [
    "### Make changes to the code below\n",
    "\n",
    "list_mixed = [1, 2, None, 4, 11, 2.2]\n",
    "\n",
    "list_sum = 0\n",
    "index = 0\n",
    "for value in list_mixed:\n",
    "    if (type(value) != int) and (type(value) != float):\n",
    "        print(\"Non numerical value at index \"+ str(index) +\".\")\n",
    "        continue\n",
    "    index += 1\n",
    "    list_sum = list_sum + value\n",
    "\n",
    "print(list_sum)"
   ]
  },
  {
   "cell_type": "markdown",
   "id": "9de6d71a",
   "metadata": {},
   "source": [
    "#### 2. Using a for loop, compute the sum of all integers starting from 1 to the number stored in the variable $n$"
   ]
  },
  {
   "cell_type": "code",
   "execution_count": null,
   "id": "bf91f9a6",
   "metadata": {},
   "outputs": [
    {
     "name": "stdout",
     "output_type": "stream",
     "text": [
      "465\n"
     ]
    }
   ],
   "source": [
    "n = 31 # run this cell with other positive integers\n",
    "sum= 0\n",
    "for i in range(n+1):\n",
    "    sum += i\n",
    "\n",
    "print(sum)"
   ]
  },
  {
   "cell_type": "markdown",
   "id": "68e4de57",
   "metadata": {},
   "source": [
    "#### 3. Using a for loop, generate 3 scatter plots using the data in the \"car features\" dataset\n",
    "\n",
    "- #### displacement vs. mpg\n",
    "- #### weight vs. mpg\n",
    "- #### acceleration vs. mpg"
   ]
  },
  {
   "cell_type": "code",
   "execution_count": 26,
   "id": "a4a80b63",
   "metadata": {},
   "outputs": [
    {
     "data": {
      "image/png": "[encoded data removed]",
      "text/plain": [
       "<Figure size 640x480 with 1 Axes>"
      ]
     },
     "metadata": {},
     "output_type": "display_data"
    }
   ],
   "source": [
    "carfeatures = pd.read_csv(\"data/features.csv\")\n",
    "featureslist = [carfeatures[\"displacement\"], carfeatures[\"weight\"], carfeatures[\"acceleration\"]] \n",
    "len(featureslist)\n",
    "for i in range(len(featureslist)):\n",
    "    plt.scatter(featureslist[i], carfeatures[\"mpg\"])\n",
    "\n"
   ]
  },
  {
   "cell_type": "code",
   "execution_count": null,
   "id": "7003b23e",
   "metadata": {},
   "outputs": [],
   "source": [
    "carfeatures = pd.read_csv()"
   ]
  },
  {
   "cell_type": "markdown",
   "id": "c729b78d",
   "metadata": {},
   "source": [
    "#### 4. With the NumPy library, you can simulate a dice roll by randomly generating an integer between 1 and 6, using the line of code \n",
    "\n",
    " ``` python\n",
    "    roll = np.random.choice([1,2,3,4,5,6]).item()\n",
    "```\n",
    "#### (you can choose a different variable name than \"roll\" of course).\n",
    "\n",
    "#### Using a while loop, simulate an experiment where you see how many dice rolls it takes to roll a 6. The code should print how many rolls it took to get a six."
   ]
  },
  {
   "cell_type": "code",
   "execution_count": 34,
   "id": "c6578c61",
   "metadata": {},
   "outputs": [
    {
     "name": "stdout",
     "output_type": "stream",
     "text": [
      "12\n"
     ]
    }
   ],
   "source": [
    "count = 0\n",
    "roll = np.random.choice([1,2,3,4,5,6]).item()\n",
    "\n",
    "while roll!= 6:\n",
    "    count += 1\n",
    "    roll = np.random.choice([1,2,3,4,5,6]).item()\n",
    "\n",
    "print(count)\n",
    "\n"
   ]
  },
  {
   "cell_type": "markdown",
   "id": "d3241182",
   "metadata": {},
   "source": [
    "#### 5. Below, we create a random numpy array with positive and negative numbers. Using a for loop with a \"continue\" statement, compute the sum of all the **positive** elements of the array"
   ]
  },
  {
   "cell_type": "code",
   "execution_count": 36,
   "id": "e67c0026",
   "metadata": {},
   "outputs": [
    {
     "name": "stdout",
     "output_type": "stream",
     "text": [
      "[-4.52263215  6.69890533  2.19772328 -4.14109015 -2.44437117 -4.27962852\n",
      "  8.14680066  7.25523915  3.19107632 -1.94076753 -4.29079458 -0.3299095\n",
      "  8.85023734 -0.6412837  -3.32523323  4.25081477  2.77543777 -4.95200698\n",
      "  7.29113158 -1.78162819  2.25606493  8.11231586  9.6059549   7.84790364\n",
      " -1.68832309]\n",
      "78.47960554023308\n"
     ]
    }
   ],
   "source": [
    "N = 25\n",
    "random_array = np.random.uniform(low = -5, high = 10, size = N)\n",
    "possum = 0\n",
    "print(random_array)\n",
    "for i in range(N):\n",
    "    if random_array[i] <= 0:\n",
    "        continue\n",
    "    if random_array[i] > 0:\n",
    "        possum += random_array[i]\n",
    "\n",
    "print(possum)\n"
   ]
  },
  {
   "cell_type": "markdown",
   "id": "e4739fa8",
   "metadata": {},
   "source": [
    "#### 6. In 1734, Leonhard Euler discovered the following identity:\n",
    "\n",
    "$$ \\frac{\\pi^2}{6} = \\frac{1}{1^2} + \\frac{1}{2^2} + \\frac{1}{3^2} + \\frac{1}{4^2} + \\cdots $$\n",
    "\n",
    "#### The sum on the right is an **infinite** series. Of course we cannot perform infinitely many tasks on a computer.\n",
    "\n",
    "#### What we **can** do is terminate the summation once the fraction $\\dfrac{1}{k^2}$ becomes smaller than a pre-specified tolerance. Compute a truncated approximation to $\\dfrac{\\pi^2}{6}$ using a for loop with a \"break\" statement"
   ]
  },
  {
   "cell_type": "code",
   "execution_count": 43,
   "id": "1f1b3aa6",
   "metadata": {},
   "outputs": [
    {
     "data": {
      "text/plain": [
       "np.float64(1.6439345666815615)"
      ]
     },
     "execution_count": 43,
     "metadata": {},
     "output_type": "execute_result"
    }
   ],
   "source": [
    "import math\n",
    "tol = 1e-6 # currently set to 10^(-6). Choose other values\n",
    "sum = 0\n",
    "for i in range(1, 10**7):\n",
    "    if (1/np.square(i) < tol):\n",
    "        break\n",
    "    sum += 1/(np.square(i))\n",
    "\n",
    "sum"
   ]
  }
 ],
 "metadata": {
  "kernelspec": {
   "display_name": "base",
   "language": "python",
   "name": "python3"
  },
  "language_info": {
   "codemirror_mode": {
    "name": "ipython",
    "version": 3
   },
   "file_extension": ".py",
   "mimetype": "text/x-python",
   "name": "python",
   "nbconvert_exporter": "python",
   "pygments_lexer": "ipython3",
   "version": "3.13.5"
  }
 },
 "nbformat": 4,
 "nbformat_minor": 5
}
