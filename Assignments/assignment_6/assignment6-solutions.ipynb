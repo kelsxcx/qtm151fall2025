{
 "cells": [
  {
   "attachments": {},
   "cell_type": "markdown",
   "metadata": {},
   "source": [
    "# Assignment 6"
   ]
  },
  {
   "attachments": {},
   "cell_type": "markdown",
   "metadata": {},
   "source": [
    "<font size = \"5\">\n",
    "\n",
    "Import the \"pandas\" and \"matplotlib.pyplot\" libraries (and any other libraries if you would like)"
   ]
  },
  {
   "cell_type": "code",
   "execution_count": 1,
   "metadata": {},
   "outputs": [],
   "source": [
    "# Import libraries\n",
    "import pandas as pd\n",
    "import matplotlib.pyplot as plt\n",
    "\n"
   ]
  },
  {
   "attachments": {},
   "cell_type": "markdown",
   "metadata": {},
   "source": [
    "<font size = \"5\">\n",
    "\n",
    "(a) Functions\n",
    "\n",
    "<font size = \"3\">\n",
    "\n",
    "- Read in the dataset named \"features.csv\".\n",
    "- Create a ``` lambda ``` function that checks if weight $≤$ 3000\n",
    "- Using the Pandas method ``.apply()``, create a new Series that shows ``True`` if weight $≤$ 3000 and ``False``if weight > 3000.\n",
    "- ~~Using the ``.shape`` attribute, print the number of cars that have weight $≤$ 3000.~~\n",
    "- Using Python commands, print the number of cars that have weight $\\leq$ 3000.\n",
    "\n",
    "\n",
    "**Note**: When I say \"Using Python commands\" that means you **should not** do either of the following:\n",
    "\n",
    "```python\n",
    "print(230)\n",
    "```\n",
    "```python\n",
    "some_variable_name = 230\n",
    "```\n",
    "\n",
    "(Yes, you should get the number 230 if you did everything correctly)\n"
   ]
  },
  {
   "cell_type": "code",
   "execution_count": 2,
   "metadata": {},
   "outputs": [
    {
     "name": "stdout",
     "output_type": "stream",
     "text": [
      "230\n",
      "\n",
      "230\n",
      "\n",
      "230\n",
      "\n",
      "230\n"
     ]
    }
   ],
   "source": [
    "# Write your answer here:\n",
    "df_features = pd.read_csv(\"data/features.csv\")\n",
    "check_weight = lambda weight: weight <= 3000 \n",
    "\n",
    "features_wt = df_features[\"weight\"]\n",
    "\n",
    "lo_weight = features_wt.apply(check_weight)\n",
    "\n",
    "# method 1\n",
    "print(sum(lo_weight))\n",
    "\n",
    "print()\n",
    "\n",
    "# method 2\n",
    "print(lo_weight[lo_weight == True].shape[0])\n",
    "\n",
    "print()\n",
    "\n",
    "# method 3\n",
    "print(lo_weight[lo_weight].shape[0])\n",
    "\n",
    "print()\n",
    "\n",
    "# method 4\n",
    "nrows,ncols = df_features.query(\" @check_weight(weight) == True \").shape\n",
    "print(nrows)"
   ]
  },
  {
   "attachments": {},
   "cell_type": "markdown",
   "metadata": {},
   "source": [
    "<font size = \"5\">\n",
    "\n",
    "(b) Subsetting Data\n",
    "\n",
    "<font size = \"3\" >\n",
    "\n",
    "- Read in the dataset named \"features.csv\".\n",
    "- Define a global variable called ```threshold``` that takes the <br>\n",
    "value 2500\n",
    "- Subset the data to get one dataset with weight $>$ threshold and <br>\n",
    "another with weight $\\le$ threshold. Use the ```.query()``` function.\n",
    "- Compute the mean acceleration for each of these datasets, printing these values to the screen<br>\n",
    "\n",
    "Note: Review how to define a global variable inside ```.query()```\n",
    " "
   ]
  },
  {
   "cell_type": "code",
   "execution_count": 3,
   "metadata": {},
   "outputs": [
    {
     "name": "stdout",
     "output_type": "stream",
     "text": [
      "16.53877551020408\n",
      "14.999601593625497\n"
     ]
    }
   ],
   "source": [
    "# Write your answer here:\n",
    "threshold = 2500\n",
    "df_1 = df_features.query(\"weight <= @threshold\")\n",
    "df_2 = df_features.query(\"weight > @threshold\")\n",
    "\n",
    "print(df_1[\"acceleration\"].mean())\n",
    "print(df_2[\"acceleration\"].mean())"
   ]
  },
  {
   "cell_type": "markdown",
   "metadata": {},
   "source": [
    "<font size = \"5\">\n",
    "\n",
    "(c) Use sorting + \".iloc[]\"\n",
    "\n",
    "<font size = \"3\">\n",
    "\n",
    "- Read the \"fifa23_players_basic.csv\" dataset\n",
    "- Use \".sort_values()\" to order the \"Age\" column <br>\n",
    "from oldest to youngest\n",
    "- Get a subset with the 5 oldest players"
   ]
  },
  {
   "cell_type": "code",
   "execution_count": 4,
   "metadata": {},
   "outputs": [],
   "source": [
    "# Write your answer here:\n",
    "\n",
    "fifa_df = pd.read_csv(\"data/fifa23_players_basic.csv\")\n",
    "fifa_by_age = fifa_df.sort_values(by = \"Age\", ascending = False)\n",
    "fifa_5_oldest = fifa_by_age.iloc[:5, :]"
   ]
  },
  {
   "cell_type": "markdown",
   "metadata": {},
   "source": [
    "<font size = \"5\">\n",
    "\n",
    "(d) Use queries + global variables\n",
    "\n",
    "<font size = \"3\">\n",
    "\n",
    "- Read the \"fifa23_players_basic.csv\" dataset\n",
    "- Compute the mean of the column \"Weight(in kg)\"\n",
    "and store it as a variable\n",
    "- Subset the players whose Weight in kilograms is stricly large than this mean value\n",
    "  using \".query()\"\n",
    "\n",
    "\n",
    "HINT: Remember that there is a special syntax for when using column names inside the .query() method (the backtick `)"
   ]
  },
  {
   "cell_type": "code",
   "execution_count": 5,
   "metadata": {},
   "outputs": [],
   "source": [
    "fifa_df = pd.read_csv(\"data/fifa23_players_basic.csv\")\n",
    "\n",
    "mean_potential = fifa_df[\"Weight(in kg)\"].mean()\n",
    "\n",
    "df_above_mean = fifa_df.query(\"`Weight(in kg)` > @mean_potential\")"
   ]
  },
  {
   "cell_type": "markdown",
   "metadata": {},
   "source": [
    "<font size = \"5\">\n",
    "\n",
    "(e) Plot by Category\n",
    "\n",
    "<font size = \"3\">\n",
    "\n",
    "Read in the dataset named \"wdi_urban.csv\".\n",
    "\n",
    "  This contains data from 1980 and 2020.\n",
    "\n",
    "- **Create an array with the unique values of \"year\" using the ``Pandas`` function ``unique``**\n",
    "\n",
    "- **Create a plot with a ...**\n",
    "    - Histogram of \"prop_urbanpopulation\" (proportion of urban population) for each year\n",
    "    - Set the histogram option `alpha = 0.5` for transparency\n",
    "    - All the histograms should be overlapping on the same plot\n",
    "    - Create a legend with the list of years\n",
    "    - Label the axes and the title\n",
    "\n",
    "**Hint**: The procedure will be similar (but not exactly the same!) as when we created a scatter plot of cars with different numbers of cylinders in Lecture 11"
   ]
  },
  {
   "cell_type": "code",
   "execution_count": null,
   "metadata": {},
   "outputs": [
    {
     "data": {
      "image/png": "[encoded data removed]",
      "text/plain": [
       "<Figure size 640x480 with 1 Axes>"
      ]
     },
     "metadata": {},
     "output_type": "display_data"
    }
   ],
   "source": [
    "# your answer here\n",
    "df_urban = pd.read_csv(\"data/wdi_urban.csv\")\n",
    "\n",
    "unique_years = pd.unique(df_urban[\"year\"])\n",
    "\n",
    "# note: there was no instruction requiring a loop\n",
    "for year in unique_years:\n",
    "    df   = df_urban.query(\"year == @year\")\n",
    "    plt.hist(x = df[\"prop_urbanpopulation\"], alpha = 0.5)\n",
    "    \n",
    "# Add labels and a legends    \n",
    "plt.xlabel(\"Proportion of Urban Population\")\n",
    "plt.ylabel(\"Frequency\")\n",
    "plt.legend(labels = unique_years,\n",
    "           title  = \"Years\")\n",
    "plt.show()"
   ]
  },
  {
   "cell_type": "code",
   "execution_count": null,
   "metadata": {},
   "outputs": [],
   "source": []
  }
 ],
 "metadata": {
  "kernelspec": {
   "display_name": "base",
   "language": "python",
   "name": "python3"
  },
  "language_info": {
   "codemirror_mode": {
    "name": "ipython",
    "version": 3
   },
   "file_extension": ".py",
   "mimetype": "text/x-python",
   "name": "python",
   "nbconvert_exporter": "python",
   "pygments_lexer": "ipython3",
   "version": "3.13.5"
  },
  "orig_nbformat": 4,
  "vscode": {
   "interpreter": {
    "hash": "45fc1f684f6f416f40889115beff3ddf69879b64cf4bfee48cb72a61e9d15d1a"
   }
  }
 },
 "nbformat": 4,
 "nbformat_minor": 2
}
